{
 "cells": [
  {
   "cell_type": "code",
   "execution_count": 1,
   "metadata": {},
   "outputs": [],
   "source": [
    "import numpy as np\n",
    "import matplotlib.pyplot as plt\n",
    "import seaborn as sns\n",
    "import pandas as pd"
   ]
  },
  {
   "cell_type": "code",
   "execution_count": 9,
   "metadata": {},
   "outputs": [
    {
     "name": "stderr",
     "output_type": "stream",
     "text": [
      "C:\\Users\\03tom\\AppData\\Local\\Temp\\ipykernel_1580\\3755051595.py:1: DtypeWarning: Columns (8,33,36) have mixed types. Specify dtype option on import or set low_memory=False.\n",
      "  data = pd.read_csv(r'data/alquiler_AMBA_dev.csv')\n"
     ]
    },
    {
     "name": "stdout",
     "output_type": "stream",
     "text": [
      "(278725, 45)\n"
     ]
    }
   ],
   "source": [
    "data = pd.read_csv(r'data/alquiler_AMBA_dev.csv')\n",
    "print(data.shape)"
   ]
  },
  {
   "cell_type": "code",
   "execution_count": 41,
   "metadata": {},
   "outputs": [
    {
     "name": "stdout",
     "output_type": "stream",
     "text": [
      "['0' nan '1']\n"
     ]
    }
   ],
   "source": [
    "# Remove leading and trailing whitespace in column: 'BusinessCenter'\n",
    "data['BusinessCenter'] = data['BusinessCenter'].str.replace(\"Sí\", \"1\", case=False, regex=False)\n",
    "data['BusinessCenter'] = data['BusinessCenter'].str.replace(\"No\", \"0\", case=False, regex=False)\n",
    "data['BusinessCenter'] = data['BusinessCenter'].str.replace(\"0.0\", \"0\", case=False, regex=False)\n",
    "data['BusinessCenter'] = data['BusinessCenter'].str.replace(\"1.0\", \"1\", case=False, regex=False)\n",
    "data['BusinessCenter'] = data['BusinessCenter'].str.strip()\n",
    "print(data['BusinessCenter'].unique())"
   ]
  },
  {
   "cell_type": "markdown",
   "metadata": {},
   "source": [
    "## Preprocesamiento"
   ]
  },
  {
   "cell_type": "code",
   "execution_count": 35,
   "metadata": {},
   "outputs": [
    {
     "name": "stdout",
     "output_type": "stream",
     "text": [
      "precio_pesos_constantes\n",
      "7465.744761      779\n",
      "7213.279962      776\n",
      "6969.352620      742\n",
      "7932.596479      724\n",
      "7355.335072      723\n",
      "                ... \n",
      "112761.114439      1\n",
      "3217.882697        1\n",
      "71851.947642       1\n",
      "24410.067814       1\n",
      "42798.794443       1\n",
      "Name: count, Length: 14389, dtype: int64\n",
      "(218980, 46)\n",
      "(54745, 46)\n",
      "(5000, 46)\n"
     ]
    }
   ],
   "source": [
    "from sklearn.model_selection import train_test_split\n",
    "\n",
    "print(data['precio_pesos_constantes'].value_counts())\n",
    "data_dev, data_test = train_test_split(data, test_size=5000/278725, random_state=42)\n",
    "data_train, data_val = train_test_split(data_dev, test_size=0.2, random_state=42)\n",
    "\n",
    "print(data_train.shape)\n",
    "print(data_val.shape)\n",
    "print(data_test.shape)"
   ]
  }
 ],
 "metadata": {
  "kernelspec": {
   "display_name": "Python 3",
   "language": "python",
   "name": "python3"
  },
  "language_info": {
   "codemirror_mode": {
    "name": "ipython",
    "version": 3
   },
   "file_extension": ".py",
   "mimetype": "text/x-python",
   "name": "python",
   "nbconvert_exporter": "python",
   "pygments_lexer": "ipython3",
   "version": "3.12.2"
  }
 },
 "nbformat": 4,
 "nbformat_minor": 2
}
