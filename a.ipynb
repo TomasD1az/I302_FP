{
 "cells": [
  {
   "cell_type": "code",
   "execution_count": null,
   "metadata": {},
   "outputs": [],
   "source": [
    "from sklearn.model_selection import train_test_split\n",
    "\n",
    "data_dev, data_test = train_test_split(data, test_size=5000/278725, random_state=42)\n",
    "data_train, data_val = train_test_split(data_dev, test_size=0.2, random_state=42)\n",
    "\n",
    "print(data_train.shape)\n",
    "print(data_val.shape)\n",
    "print(data_test.shape)"
   ]
  }
 ],
 "metadata": {
  "language_info": {
   "name": "python"
  }
 },
 "nbformat": 4,
 "nbformat_minor": 2
}
